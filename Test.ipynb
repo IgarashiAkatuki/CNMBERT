{
 "cells": [
  {
   "cell_type": "code",
   "id": "initial_id",
   "metadata": {
    "collapsed": true,
    "ExecuteTime": {
     "end_time": "2025-03-29T02:38:37.862817Z",
     "start_time": "2025-03-29T02:38:33.921228Z"
    }
   },
   "source": [
    "from transformers import AutoTokenizer, BertConfig, BertForMaskedLM\n",
    "\n",
    "from CustomBertModel import predict, backtrack_predict, word_level_predict\n",
    "from MoELayer import BertWwmMoE"
   ],
   "outputs": [
    {
     "name": "stderr",
     "output_type": "stream",
     "text": [
      "E:\\Environment\\Anaconda\\envs\\speech\\lib\\site-packages\\tqdm\\auto.py:21: TqdmWarning: IProgress not found. Please update jupyter and ipywidgets. See https://ipywidgets.readthedocs.io/en/stable/user_install.html\n",
      "  from .autonotebook import tqdm as notebook_tqdm\n"
     ]
    }
   ],
   "execution_count": 1
  },
  {
   "metadata": {
    "ExecuteTime": {
     "end_time": "2025-03-29T02:38:39.810910Z",
     "start_time": "2025-03-29T02:38:37.866817Z"
    }
   },
   "cell_type": "code",
   "source": [
    "# use CNMBert with MoE\n",
    "# if you want to use CNMBert without MoE, please change all \"Midsummra/CNMBert-MoE\" to \"Midsummra/CNMBert\" and use BertForMaskedLM instead of using BertWwmMoE\n",
    "tokenizer = AutoTokenizer.from_pretrained(\"Midsummra/CNMBert-MoE\")\n",
    "config = BertConfig.from_pretrained('Midsummra/CNMBert-MoE')\n",
    "model = BertWwmMoE.from_pretrained('Midsummra/CNMBert-MoE', config=config).to('cuda')"
   ],
   "id": "5d9191a45178cd39",
   "outputs": [
    {
     "name": "stderr",
     "output_type": "stream",
     "text": [
      "BertForMaskedLM has generative capabilities, as `prepare_inputs_for_generation` is explicitly overwritten. However, it doesn't directly inherit from `GenerationMixin`. From 👉v4.50👈 onwards, `PreTrainedModel` will NOT inherit from `GenerationMixin`, and this model will lose the ability to call `generate` and other related functions.\n",
      "  - If you're using `trust_remote_code=True`, you can get rid of this warning by loading the model with an auto class. See https://huggingface.co/docs/transformers/en/model_doc/auto#auto-classes\n",
      "  - If you are the owner of the model architecture code, please modify your model class such that it inherits from `GenerationMixin` (after `PreTrainedModel`, otherwise you'll get an exception).\n",
      "  - If you are not the owner of the model architecture class, please contact the model code owner to update it.\n",
      "Some weights of the model checkpoint at Midsummra/CNMBert-MoE were not used when initializing BertWwmMoE: ['bert.encoder.layer.0.intermediate.dense.sparse_moe.bias', 'bert.encoder.layer.10.intermediate.dense.sparse_moe.bias', 'bert.encoder.layer.12.intermediate.dense.sparse_moe.bias', 'bert.encoder.layer.14.intermediate.dense.sparse_moe.bias', 'bert.encoder.layer.2.intermediate.dense.sparse_moe.bias', 'bert.encoder.layer.4.intermediate.dense.sparse_moe.bias', 'bert.encoder.layer.6.intermediate.dense.sparse_moe.bias', 'bert.encoder.layer.8.intermediate.dense.sparse_moe.bias']\n",
      "- This IS expected if you are initializing BertWwmMoE from the checkpoint of a model trained on another task or with another architecture (e.g. initializing a BertForSequenceClassification model from a BertForPreTraining model).\n",
      "- This IS NOT expected if you are initializing BertWwmMoE from the checkpoint of a model that you expect to be exactly identical (initializing a BertForSequenceClassification model from a BertForSequenceClassification model).\n",
      "Some weights of BertWwmMoE were not initialized from the model checkpoint at Midsummra/CNMBert-MoE and are newly initialized: ['bert.encoder.layer.0.intermediate.dense.sparse_moe.beta', 'bert.encoder.layer.10.intermediate.dense.sparse_moe.beta', 'bert.encoder.layer.12.intermediate.dense.sparse_moe.beta', 'bert.encoder.layer.14.intermediate.dense.sparse_moe.beta', 'bert.encoder.layer.2.intermediate.dense.sparse_moe.beta', 'bert.encoder.layer.4.intermediate.dense.sparse_moe.beta', 'bert.encoder.layer.6.intermediate.dense.sparse_moe.beta', 'bert.encoder.layer.8.intermediate.dense.sparse_moe.beta']\n",
      "You should probably TRAIN this model on a down-stream task to be able to use it for predictions and inference.\n"
     ]
    }
   ],
   "execution_count": 2
  },
  {
   "metadata": {
    "ExecuteTime": {
     "end_time": "2025-03-29T02:47:24.841036Z",
     "start_time": "2025-03-29T02:47:23.974884Z"
    }
   },
   "cell_type": "code",
   "source": [
    "print(word_level_predict(\"将军是一支柱\", \"支柱\", model, tokenizer, fast_mode=False, strict_mode=False)[:10])\n",
    "print(predict(\"快去给魔理沙看b吧\", \"b\", model, tokenizer)[:5])"
   ],
   "id": "5f8789a21534588c",
   "outputs": [
    {
     "name": "stdout",
     "output_type": "stream",
     "text": [
      "[['只猪', 0.013427094615127833, 1.0], ['支主', 0.012690062437477466, 1.0], ['支州', 0.012477088056586812, 0.9230769230769231], ['支战', 0.01260267308151233, 0.7692307692307692], ['侄子', 0.012531780478518316, 0.7272727272727273], ['支子', 0.012490831659057209, 0.7272727272727273], ['种主', 0.012726939569656787, 0.7142857142857143], ['支长', 0.012681785355615857, 0.7142857142857143], ['支中', 0.012518818992013665, 0.7142857142857143], ['直在', 0.013213451601798279, 0.6666666666666667]]\n",
      "[['病', 0.19057052400975555], ['吧', 0.09717965056220808], ['包', 0.08986218881784686], ['呗', 0.08982954684417713], ['报', 0.08949582422272462]]\n"
     ]
    }
   ],
   "execution_count": 14
  },
  {
   "metadata": {},
   "cell_type": "code",
   "outputs": [],
   "execution_count": null,
   "source": "",
   "id": "51e5db5ca1807903"
  }
 ],
 "metadata": {
  "kernelspec": {
   "display_name": "Python 3",
   "language": "python",
   "name": "python3"
  },
  "language_info": {
   "codemirror_mode": {
    "name": "ipython",
    "version": 2
   },
   "file_extension": ".py",
   "mimetype": "text/x-python",
   "name": "python",
   "nbconvert_exporter": "python",
   "pygments_lexer": "ipython2",
   "version": "2.7.6"
  }
 },
 "nbformat": 4,
 "nbformat_minor": 5
}
